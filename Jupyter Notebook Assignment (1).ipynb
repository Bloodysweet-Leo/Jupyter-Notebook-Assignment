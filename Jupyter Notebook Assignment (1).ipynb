{
 "cells": [
  {
   "cell_type": "markdown",
   "id": "8fa97958",
   "metadata": {},
   "source": [
    "# Jupyter Notebook Assignment"
   ]
  },
  {
   "cell_type": "markdown",
   "id": "a361b7e7",
   "metadata": {},
   "source": [
    "This is an assignment to illustrate proficieny in tools used in Data Science."
   ]
  },
  {
   "cell_type": "markdown",
   "id": "64f3b72a",
   "metadata": {},
   "source": [
    "Data Science Languages\n",
    "\n",
    "1. Python\n",
    "2. R\n",
    "3. SQL\n",
    "4. Scala\n",
    "5. Java\n",
    "6. Julia\n",
    "7. C++"
   ]
  },
  {
   "cell_type": "markdown",
   "id": "1b857f0d",
   "metadata": {},
   "source": [
    "Data Science Libraries\n",
    "\n",
    "1. Pandas\n",
    "2. Numpy\n",
    "3. Scikit\n",
    "4. Pytorch\n",
    "5. Tensorflow\n",
    "6. Matplotlib\n",
    "7. Seaborn"
   ]
  },
  {
   "cell_type": "markdown",
   "id": "cf2736db",
   "metadata": {},
   "source": [
    "Data Science Tools\n",
    "\n",
    "1. Jupyter Notebooks\n",
    "2. Anaconda Navigator\n",
    "3. GITHub\n",
    "4. Jupyter Lab"
   ]
  },
  {
   "cell_type": "markdown",
   "id": "63750cbc",
   "metadata": {},
   "source": [
    "The following code cells will demonstrate basic arithmetic operations."
   ]
  },
  {
   "cell_type": "code",
   "execution_count": 4,
   "id": "423dd1d6",
   "metadata": {},
   "outputs": [
    {
     "name": "stdout",
     "output_type": "stream",
     "text": [
      "5\n",
      "6\n"
     ]
    }
   ],
   "source": [
    "print(3+2)\n",
    "print(3*2)"
   ]
  },
  {
   "cell_type": "code",
   "execution_count": 5,
   "id": "87fdee8a",
   "metadata": {},
   "outputs": [
    {
     "name": "stdout",
     "output_type": "stream",
     "text": [
      "3.0\n"
     ]
    }
   ],
   "source": [
    "min=180\n",
    "hours=min/60\n",
    "print(hours)"
   ]
  },
  {
   "cell_type": "raw",
   "id": "bb07bfd7",
   "metadata": {},
   "source": [
    "Objectives:\n",
    "\n",
    "- Understand the fundamentals of Datascience.\n",
    "- List the data science languages\n"
   ]
  },
  {
   "cell_type": "markdown",
   "id": "e3051391",
   "metadata": {},
   "source": [
    "This notebook's goals are to explore different data science concepts and provide examples of code."
   ]
  },
  {
   "cell_type": "markdown",
   "id": "85345604",
   "metadata": {},
   "source": [
    "Author-Harivatsan Selvam"
   ]
  },
  {
   "cell_type": "code",
   "execution_count": null,
   "id": "94d83f7e",
   "metadata": {},
   "outputs": [],
   "source": []
  }
 ],
 "metadata": {
  "kernelspec": {
   "display_name": "Python 3 (ipykernel)",
   "language": "python",
   "name": "python3"
  },
  "language_info": {
   "codemirror_mode": {
    "name": "ipython",
    "version": 3
   },
   "file_extension": ".py",
   "mimetype": "text/x-python",
   "name": "python",
   "nbconvert_exporter": "python",
   "pygments_lexer": "ipython3",
   "version": "3.11.5"
  }
 },
 "nbformat": 4,
 "nbformat_minor": 5
}
